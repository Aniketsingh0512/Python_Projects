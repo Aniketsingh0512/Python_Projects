{
 "cells": [
  {
   "cell_type": "code",
   "execution_count": null,
   "id": "c280c844",
   "metadata": {},
   "outputs": [],
   "source": [
    "import warnings\n",
    "warnings.filterwarnings(\"ignore\")\n",
    "\n",
    "import numpy as np\n",
    "import pandas as pd\n",
    "import matplotlib.pyplot as plt\n",
    "import seaborn as sns"
   ]
  },
  {
   "cell_type": "code",
   "execution_count": null,
   "id": "ce9a0abc",
   "metadata": {},
   "outputs": [],
   "source": [
    "df = pd.read_csv(\"GroceryStoreDataSet.csv\", header=None, names=[\"Products\"])\n",
    "df"
   ]
  },
  {
   "cell_type": "code",
   "execution_count": null,
   "id": "e9c18533",
   "metadata": {},
   "outputs": [],
   "source": [
    "!pip install mlxtend"
   ]
  },
  {
   "cell_type": "code",
   "execution_count": null,
   "id": "397c8b4d",
   "metadata": {},
   "outputs": [],
   "source": [
    "from mlxtend.frequent_patterns import apriori, association_rules"
   ]
  },
  {
   "cell_type": "code",
   "execution_count": null,
   "id": "0c55fdd1",
   "metadata": {},
   "outputs": [],
   "source": [
    "def breakc(text):\n",
    "    return text.split(\",\")"
   ]
  },
  {
   "cell_type": "code",
   "execution_count": null,
   "id": "39094dfb",
   "metadata": {},
   "outputs": [],
   "source": [
    "x = \"jam, maggi, milk\"\n",
    "breakc(x)"
   ]
  },
  {
   "cell_type": "code",
   "execution_count": null,
   "id": "7820109f",
   "metadata": {},
   "outputs": [],
   "source": [
    "data = list(df[\"Products\"].apply(breakc))\n",
    "data"
   ]
  },
  {
   "cell_type": "code",
   "execution_count": null,
   "id": "b4de83e8",
   "metadata": {},
   "outputs": [],
   "source": [
    "from mlxtend.preprocessing import TransactionEncoder\n",
    "te = TransactionEncoder()\n",
    "endata = te.fit_transform(data)"
   ]
  },
  {
   "cell_type": "code",
   "execution_count": null,
   "id": "96f94b01",
   "metadata": {},
   "outputs": [],
   "source": [
    "endata"
   ]
  },
  {
   "cell_type": "code",
   "execution_count": null,
   "id": "95b702a4",
   "metadata": {},
   "outputs": [],
   "source": [
    "te.columns_"
   ]
  },
  {
   "cell_type": "code",
   "execution_count": null,
   "id": "0c7d3bb0",
   "metadata": {},
   "outputs": [],
   "source": [
    "df = pd.DataFrame(endata, columns=te.columns_)"
   ]
  },
  {
   "cell_type": "code",
   "execution_count": null,
   "id": "0306f816",
   "metadata": {},
   "outputs": [],
   "source": [
    "df"
   ]
  },
  {
   "cell_type": "code",
   "execution_count": null,
   "id": "21dd4014",
   "metadata": {},
   "outputs": [],
   "source": [
    "df.replace(False, 0, inplace=True)\n",
    "df.replace(True, 1, inplace=True)\n",
    "df.head()"
   ]
  },
  {
   "cell_type": "code",
   "execution_count": null,
   "id": "a02f0776",
   "metadata": {},
   "outputs": [],
   "source": [
    "scores = apriori(df, min_support=0.2, use_colnames=True)\n",
    "scores"
   ]
  },
  {
   "cell_type": "code",
   "execution_count": null,
   "id": "89cb6831",
   "metadata": {},
   "outputs": [],
   "source": [
    "ar = association_rules(scores, metric=\"confidence\")\n",
    "ar"
   ]
  }
 ],
 "metadata": {
  "kernelspec": {
   "display_name": "Python 3 (ipykernel)",
   "language": "python",
   "name": "python3"
  },
  "language_info": {
   "codemirror_mode": {
    "name": "ipython",
    "version": 3
   },
   "file_extension": ".py",
   "mimetype": "text/x-python",
   "name": "python",
   "nbconvert_exporter": "python",
   "pygments_lexer": "ipython3",
   "version": "3.9.12"
  }
 },
 "nbformat": 4,
 "nbformat_minor": 5
}
